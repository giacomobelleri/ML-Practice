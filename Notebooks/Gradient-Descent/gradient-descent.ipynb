{
 "cells": [
  {
   "cell_type": "markdown",
   "metadata": {},
   "source": [
    "# Gradient Descent and its Variants\n",
    "\n",
    "This notebook is designed to write and explore multiple gradient descent algorithms.\n",
    "\n",
    "### Setup"
   ]
  },
  {
   "cell_type": "code",
   "execution_count": 1,
   "metadata": {},
   "outputs": [
    {
     "name": "stdout",
     "output_type": "stream",
     "text": [
      "Creating directory ...\n",
      "Directory c:\\Users\\giaco\\Documents\\GitHub\\ML-Practice\\Notebooks\\Gradient-Descent\\Graphs created.\n"
     ]
    }
   ],
   "source": [
    "# Sets up directories and files for a new project\n",
    "from pathlib import Path\n",
    "\n",
    "cwd = Path.cwd()\n",
    "graph_dir = cwd / 'Graphs'\n",
    "\n",
    "def CreateDir(directory: Path) -> None:\n",
    "    print(f'Creating directory ...')\n",
    "    Path.mkdir(directory, exist_ok=True, parents=True)\n",
    "    print(f'Directory {directory} created.')\n",
    "    \n",
    "def CreateFilePath(fname: str, dir: str = graph_dir,\n",
    "                    extension: str = 'png') -> str:\n",
    "    return f'{dir}{'\\\\'}{fname}.{extension}'\n",
    "\n",
    "CreateDir(graph_dir)"
   ]
  },
  {
   "cell_type": "code",
   "execution_count": 2,
   "metadata": {},
   "outputs": [],
   "source": [
    "# Sets up plotting and other packages\n",
    "import numpy as np\n",
    "import matplotlib.pyplot as plt\n",
    "from typing import Callable, Any, Tuple, Optional\n",
    "from numpy.typing import NDArray\n",
    "\n",
    "# Changes the default font size, linewidth, and figure size\n",
    "plt.rcParams.update({'font.size': 14,\n",
    "                        'lines.linewidth': 2,\n",
    "                        'figure.figsize': (10, 8),\n",
    "                        'figure.titlesize': 18,\n",
    "                        'axes.labelsize': 16,\n",
    "                        'axes.titlesize': 18,\n",
    "                        'axes.linewidth': 2,\n",
    "                        'xtick.labelsize': 14,\n",
    "                        'ytick.labelsize': 14,\n",
    "                        'legend.fontsize': 14,\n",
    "                        'legend.title_fontsize': 16,\n",
    "                        'legend.shadow': True,\n",
    "                        'legend.frameon': True,\n",
    "                        'legend.edgecolor': 'black',\n",
    "                        'legend.facecolor': 'white',\n",
    "                        'legend.fancybox': True,\n",
    "                        'legend.framealpha': 1,\n",
    "                        'legend.borderpad': 1,\n",
    "                        'legend.labelspacing': 1,\n",
    "                        'legend.handletextpad': 1,\n",
    "                        'legend.handlelength': 1.5,\n",
    "                        'legend.borderaxespad': 1,\n",
    "                        'legend.columnspacing': 2})"
   ]
  },
  {
   "cell_type": "markdown",
   "metadata": {},
   "source": [
    "## Helper Functions"
   ]
  },
  {
   "cell_type": "code",
   "execution_count": 3,
   "metadata": {},
   "outputs": [],
   "source": [
    "def ReshapeTo(arr: NDArray[Any],\n",
    "                required_shape: Tuple[int, ...]) -> Optional[NDArray[Any]]:\n",
    "    \"\"\"Reshapes array to required shape. If current shape matches original array,\n",
    "        does not reshape. If array cannot be reshaped to required shape\n",
    "\n",
    "    Args:\n",
    "        arr (NDArray[Any]): Array to be reshaped\n",
    "        required_shape (Tuple[int, ...]): Array shape to which arr needs to be reshaped to\n",
    "\n",
    "    Returns:\n",
    "        Optional[NDArray[Any]]: Reshaped array\n",
    "    \"\"\"\n",
    "    \n",
    "    # Checks whether array has already required shape\n",
    "    if arr.shape == required_shape:\n",
    "        return arr\n",
    "    \n",
    "    # If not required shape, try to reshape\n",
    "    try:\n",
    "        reshaped_arr = arr.reshape(required_shape)\n",
    "        return reshaped_arr\n",
    "    \n",
    "    except ValueError as e:\n",
    "        print(f\"Cannot reshape array from shape {arr.shape} to {required_shape}: {e}\")\n",
    "        return None\n",
    "        \n",
    "    return "
   ]
  },
  {
   "cell_type": "markdown",
   "metadata": {},
   "source": [
    "## Polynomial Model and Cost Function"
   ]
  },
  {
   "cell_type": "code",
   "execution_count": 13,
   "metadata": {},
   "outputs": [],
   "source": [
    "def FormPredictorMatrix(predictors: NDArray[Any], order: int=1) -> NDArray[Any]:\n",
    "    \n",
    "    # Create array to store predictor matrix\n",
    "    predictor_matrix = np.ones((predictors.shape[0], 1))\n",
    "    for exp in range(1, order+1):\n",
    "        predictor_matrix = np.hstack((predictor_matrix, predictors**exp))\n",
    "        \n",
    "    return predictor_matrix\n",
    "\n",
    "def PolynomialModel(predictors_matrix: NDArray[Any],\n",
    "                    params: NDArray[Any]) -> NDArray[Any]:\n",
    "    \n",
    "    \"\"\" Function to compute the model response for a polynomial model.\n",
    "        Note: For n-th order polynomial, the predictors should be in the form of [X, X^2, X^3, ... X^n]\n",
    "\n",
    "        Args:\n",
    "            predictors_matrix (NDArray[Any]): Array of predictors value for each measurement \n",
    "                                        i.e. [X1, X2, X3, ...] where Xn is the column vector\n",
    "                                        of measurements for nth predictor\n",
    "            params (NDArray[Any]): Array of parameters for the model. \n",
    "                                    The first element is the intercept and the rest are the coefficients\n",
    "                                    \n",
    "        Returns:\n",
    "            NDArray[Any]: Model response for the given predictors and parameters\n",
    "        \"\"\"\n",
    "    \n",
    "    # Asserts correct shape of predictors\n",
    "    assert predictors_matrix.ndim<=2, \"The predictors should be a 1-D Array containg multiple meausurements for one predictor or 2-D Array containing multiple meausurements for various predictors.\"\n",
    "    assert params.ndim<=2 and params.shape[0]==predictors_matrix.shape[-1], \"Parameter array must be a 1-D array (Row vector) or a 2-D Array with one column with the same number of entries as the number of columns of predictor matrix\"\n",
    "    \n",
    "    # Reshapes param array\n",
    "    params = ReshapeTo(arr=params, required_shape=(predictors_matrix.shape[-1], 1))\n",
    "    \n",
    "    return np.matmul(predictors_matrix, params)\n",
    "\n",
    "def MeanSquareError(model: Callable[[NDArray[Any], NDArray[Any]], NDArray[Any]],\n",
    "                    response: NDArray[Any],\n",
    "                    predictors: list[NDArray[Any]],\n",
    "                    params: NDArray[Any]) -> NDArray[Any]:\n",
    "    \n",
    "    assert response.ndim==1, \"The response values should be a 1-D array\"\n",
    "    assert predictors.shape[-1]==params.shape[0]\n",
    "    \n",
    "    difference = (response - model(predictors, params)) #Computes difference between measured and model response as 1-D array \n",
    "    mean_squared_error = (difference).dot(difference)   #Squares error\n",
    "    mean_squared_error /= len(response)                 #Takes average\n",
    "    \n",
    "    return mean_squared_error"
   ]
  },
  {
   "cell_type": "markdown",
   "metadata": {},
   "source": [
    "## Gradient Descent Algorithms"
   ]
  },
  {
   "cell_type": "code",
   "execution_count": null,
   "metadata": {},
   "outputs": [],
   "source": [
    "def GD(func: function, params: list[np.ndarray], init: np.ndarray, eta: float, epochs: int) -> np.ndarray:\n",
    "    \n",
    "    func_value = func(*params.T)                           #Unpacks Parameters Along columns\n",
    "    trajectory = np.zeros(shape=(epochs+1, init.shape[0])) #Empty array to store trajectory in parameter space\n",
    "    trajectory[0, :] = init                                #Initial position in parameter space\n",
    "    \n",
    "    #Itrates over epochs to update parameter trajectory\n",
    "    for iter in range(epochs):\n",
    "        grad = np.grad(func_value)\n",
    "        trajectory[iter+1, :] = trajectory[iter]\n",
    "        trajectory[iter+1, :] -= eta*grad\n",
    "    \n",
    "    return trajectory"
   ]
  },
  {
   "cell_type": "code",
   "execution_count": null,
   "metadata": {},
   "outputs": [
    {
     "name": "stdout",
     "output_type": "stream",
     "text": [
      "[[ 1.  2.  3.  4.  5.  6.  7.  8.  9. 10.]\n",
      " [ 1.  2.  3.  4.  5.  6.  7.  8.  9. 10.]\n",
      " [ 1.  2.  3.  4.  5.  6.  7.  8.  9. 10.]\n",
      " [ 1.  2.  3.  4.  5.  6.  7.  8.  9. 10.]\n",
      " [ 1.  2.  3.  4.  5.  6.  7.  8.  9. 10.]]\n",
      "\n",
      "[[1. 1. 1. 1. 1. 1. 1. 1. 1. 1.]\n",
      " [2. 2. 2. 2. 2. 2. 2. 2. 2. 2.]\n",
      " [3. 3. 3. 3. 3. 3. 3. 3. 3. 3.]\n",
      " [4. 4. 4. 4. 4. 4. 4. 4. 4. 4.]\n",
      " [5. 5. 5. 5. 5. 5. 5. 5. 5. 5.]]\n",
      "(5,)\n"
     ]
    }
   ],
   "source": [
    "x = np.linspace(1, 10, 10)\n",
    "y = np.linspace(1, 5, 5)\n",
    "X, Y = np.meshgrid(x, y)\n",
    "print(f\"{X}{'\\n\\n'}{Y}\")"
   ]
  }
 ],
 "metadata": {
  "kernelspec": {
   "display_name": "Python 3",
   "language": "python",
   "name": "python3"
  },
  "language_info": {
   "codemirror_mode": {
    "name": "ipython",
    "version": 3
   },
   "file_extension": ".py",
   "mimetype": "text/x-python",
   "name": "python",
   "nbconvert_exporter": "python",
   "pygments_lexer": "ipython3",
   "version": "3.12.1"
  }
 },
 "nbformat": 4,
 "nbformat_minor": 2
}
